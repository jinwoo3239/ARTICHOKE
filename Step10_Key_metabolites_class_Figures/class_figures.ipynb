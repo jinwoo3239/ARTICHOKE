{
 "cells": [
  {
   "cell_type": "code",
   "execution_count": 1,
   "id": "ec35670d",
   "metadata": {},
   "outputs": [],
   "source": [
    "import numpy as np\n",
    "import pandas as pd\n",
    "\n",
    "import matplotlib.pyplot as plt\n",
    "import seaborn as sns\n",
    "\n",
    "plt.rcParams['font.family'] = 'Arial'\n",
    "\n",
    "import warnings\n",
    "warnings.filterwarnings(\"ignore\")"
   ]
  },
  {
   "cell_type": "code",
   "execution_count": 2,
   "id": "6c3c72dd",
   "metadata": {},
   "outputs": [],
   "source": [
    "file_path = './data/250711_dataset_analysis.xlsx'\n",
    "\n",
    "df = pd.read_excel(file_path, sheet_name='ID_class_figure')"
   ]
  },
  {
   "cell_type": "code",
   "execution_count": 3,
   "id": "07a18bcf",
   "metadata": {},
   "outputs": [
    {
     "data": {
      "text/html": [
       "<div>\n",
       "<style scoped>\n",
       "    .dataframe tbody tr th:only-of-type {\n",
       "        vertical-align: middle;\n",
       "    }\n",
       "\n",
       "    .dataframe tbody tr th {\n",
       "        vertical-align: top;\n",
       "    }\n",
       "\n",
       "    .dataframe thead th {\n",
       "        text-align: right;\n",
       "    }\n",
       "</style>\n",
       "<table border=\"1\" class=\"dataframe\">\n",
       "  <thead>\n",
       "    <tr style=\"text-align: right;\">\n",
       "      <th></th>\n",
       "      <th>Label (RT_m/z)</th>\n",
       "      <th>Putative metabolites</th>\n",
       "      <th>Class</th>\n",
       "      <th>Note</th>\n",
       "      <th>HMDB</th>\n",
       "      <th>Mode</th>\n",
       "      <th>FDR</th>\n",
       "      <th>RSD</th>\n",
       "      <th>FC</th>\n",
       "    </tr>\n",
       "  </thead>\n",
       "  <tbody>\n",
       "    <tr>\n",
       "      <th>0</th>\n",
       "      <td>1.668_257.04443</td>\n",
       "      <td>Purpurin</td>\n",
       "      <td>Anthracenes</td>\n",
       "      <td>NaN</td>\n",
       "      <td>HMDB0256928</td>\n",
       "      <td>Pos</td>\n",
       "      <td>0.0008</td>\n",
       "      <td>11</td>\n",
       "      <td>0.77</td>\n",
       "    </tr>\n",
       "    <tr>\n",
       "      <th>1</th>\n",
       "      <td>5.164_137.02446</td>\n",
       "      <td>Salicylate</td>\n",
       "      <td>Benzene and substituted derivatives</td>\n",
       "      <td>NaN</td>\n",
       "      <td>HMDB0001895</td>\n",
       "      <td>Neg</td>\n",
       "      <td>0.0125</td>\n",
       "      <td>10</td>\n",
       "      <td>1.69</td>\n",
       "    </tr>\n",
       "    <tr>\n",
       "      <th>2</th>\n",
       "      <td>5.507_184.00542</td>\n",
       "      <td>Saccharin</td>\n",
       "      <td>Benzothiazoles</td>\n",
       "      <td>NaN</td>\n",
       "      <td>HMDB0029723</td>\n",
       "      <td>Pos</td>\n",
       "      <td>&gt;0.0001</td>\n",
       "      <td>25</td>\n",
       "      <td>2.11</td>\n",
       "    </tr>\n",
       "    <tr>\n",
       "      <th>3</th>\n",
       "      <td>0.905_188.1757</td>\n",
       "      <td>Acetylspermidine</td>\n",
       "      <td>Carboximidic acids and derivatives</td>\n",
       "      <td>NaN</td>\n",
       "      <td>HMDB0002189</td>\n",
       "      <td>Pos</td>\n",
       "      <td>0.0497</td>\n",
       "      <td>6</td>\n",
       "      <td>3.18</td>\n",
       "    </tr>\n",
       "    <tr>\n",
       "      <th>4</th>\n",
       "      <td>5.333_222.07729</td>\n",
       "      <td>Acetyltyrosine</td>\n",
       "      <td>Carboxylic acids and derivatives</td>\n",
       "      <td>NaN</td>\n",
       "      <td>HMDB0244966</td>\n",
       "      <td>Neg</td>\n",
       "      <td>0.0232</td>\n",
       "      <td>10</td>\n",
       "      <td>1.46</td>\n",
       "    </tr>\n",
       "  </tbody>\n",
       "</table>\n",
       "</div>"
      ],
      "text/plain": [
       "    Label (RT_m/z) Putative metabolites                                Class  \\\n",
       "0  1.668_257.04443             Purpurin                          Anthracenes   \n",
       "1  5.164_137.02446           Salicylate  Benzene and substituted derivatives   \n",
       "2  5.507_184.00542            Saccharin                       Benzothiazoles   \n",
       "3   0.905_188.1757     Acetylspermidine   Carboximidic acids and derivatives   \n",
       "4  5.333_222.07729       Acetyltyrosine     Carboxylic acids and derivatives   \n",
       "\n",
       "  Note         HMDB Mode      FDR  RSD    FC  \n",
       "0  NaN  HMDB0256928  Pos   0.0008   11  0.77  \n",
       "1  NaN  HMDB0001895  Neg   0.0125   10  1.69  \n",
       "2  NaN  HMDB0029723  Pos  >0.0001   25  2.11  \n",
       "3  NaN  HMDB0002189  Pos   0.0497    6  3.18  \n",
       "4  NaN  HMDB0244966  Neg   0.0232   10  1.46  "
      ]
     },
     "execution_count": 3,
     "metadata": {},
     "output_type": "execute_result"
    }
   ],
   "source": [
    "df.head()"
   ]
  },
  {
   "cell_type": "code",
   "execution_count": 4,
   "id": "22caa088",
   "metadata": {},
   "outputs": [
    {
     "data": {
      "image/png": "[encoded data removed]",
      "text/plain": [
       "<Figure size 450x230 with 1 Axes>"
      ]
     },
     "metadata": {},
     "output_type": "display_data"
    }
   ],
   "source": [
    "class_counts_raw = df['Class'].value_counts()\n",
    "rare_classes = class_counts_raw[class_counts_raw <= 2].index\n",
    "df['Class_grouped'] = df['Class'].apply(lambda x: 'Others' if x in rare_classes else x)\n",
    "\n",
    "class_counts = df['Class_grouped'].value_counts()\n",
    "labels = class_counts.index\n",
    "sizes = class_counts.values\n",
    "explode = [0.03] * len(sizes)\n",
    "colors = sns.color_palette(\"Set3\", n_colors=len(labels))\n",
    "\n",
    "plt.figure(figsize=(4.5, 2.3))\n",
    "wedges, texts = plt.pie(\n",
    "    sizes,\n",
    "    labels=labels,\n",
    "    startangle=30,\n",
    "    explode=explode,\n",
    "    colors=colors,\n",
    "    wedgeprops={'linewidth': 0},\n",
    "    textprops={'fontsize': 9}\n",
    ")\n",
    "\n",
    "total = sum(sizes)\n",
    "for i, (wedge, size) in enumerate(zip(wedges, sizes)):\n",
    "    angle = (wedge.theta2 + wedge.theta1) / 2\n",
    "    x = np.cos(np.deg2rad(angle)) * 0.8\n",
    "    y = np.sin(np.deg2rad(angle)) * 0.8\n",
    "    percentage = f'{(size / total) * 100:.1f}%'\n",
    "    plt.text(x, y, percentage, ha='center', va='center', fontsize=9)\n",
    "\n",
    "plt.tight_layout()\n",
    "# plt.savefig('pie_rev.tif',dpi=600)\n",
    "\n",
    "plt.show()\n"
   ]
  },
  {
   "cell_type": "code",
   "execution_count": null,
   "id": "25a92ca7",
   "metadata": {},
   "outputs": [],
   "source": []
  }
 ],
 "metadata": {
  "kernelspec": {
   "display_name": "jinwoo",
   "language": "python",
   "name": "python3"
  },
  "language_info": {
   "codemirror_mode": {
    "name": "ipython",
    "version": 3
   },
   "file_extension": ".py",
   "mimetype": "text/x-python",
   "name": "python",
   "nbconvert_exporter": "python",
   "pygments_lexer": "ipython3",
   "version": "3.12.3"
  }
 },
 "nbformat": 4,
 "nbformat_minor": 5
}
