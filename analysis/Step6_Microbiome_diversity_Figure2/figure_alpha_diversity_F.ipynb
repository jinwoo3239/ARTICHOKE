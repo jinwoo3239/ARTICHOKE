{
 "cells": [
  {
   "cell_type": "markdown",
   "metadata": {},
   "source": [
    "This section contains the code used to generate figures in a Jupyter notebook.\n",
    "All analyses were performed using MicrobiomeAnalyst, and the results were compiled into the `diversity_summary_250602.xlsx` file, organized by sheet.\n",
    "\n",
    "To conduct the analysis in MicrobiomeAnalyst, the following four input files were used:\n",
    "- `asv.csv`  \n",
    "- `meta.csv`  \n",
    "  *(both generated in Step 5)*  \n",
    "\n",
    "- `taxa_silva_rev.csv`  \n",
    "- `tree.nwk`  \n",
    "  *(both derived from QIIME2 outputs)*"
   ]
  },
  {
   "cell_type": "code",
   "execution_count": 2,
   "metadata": {},
   "outputs": [],
   "source": [
    "import pandas as pd\n",
    "import seaborn as sns\n",
    "\n",
    "import matplotlib.pyplot as plt\n",
    "\n",
    "plt.rcParams['font.family'] = 'Arial'\n",
    "\n",
    "import warnings\n",
    "warnings.filterwarnings(\"ignore\")"
   ]
  },
  {
   "cell_type": "code",
   "execution_count": null,
   "metadata": {},
   "outputs": [],
   "source": [
    "# \"Alpha diversity analysis was performed using MicrobiomeAnalyst.\"\n",
    "# https://www.microbiomeanalyst.ca/\n",
    "\n",
    "# diversity, Observed, Chao1, Shannon, Simpson\n",
    "orders = ['Control', 'Artichoke']\n",
    "g_colors = ['lightcoral', 'lightseagreen']"
   ]
  },
  {
   "cell_type": "code",
   "execution_count": null,
   "metadata": {},
   "outputs": [],
   "source": [
    "df_observed_B = pd.read_excel('./Data/diversity_summary_250602.xlsx', sheet_name='f_observed_B')\n",
    "df_observed_P = pd.read_excel('./Data/diversity_summary_250602.xlsx', sheet_name='f_observed_P')\n",
    "\n"
   ]
  },
  {
   "cell_type": "code",
   "execution_count": null,
   "metadata": {},
   "outputs": [
    {
     "data": {
      "image/png": "[encoded data removed]",
      "text/plain": [
       "<Figure size 159x170 with 1 Axes>"
      ]
     },
     "metadata": {},
     "output_type": "display_data"
    }
   ],
   "source": [
    "# Figure 2A, Observed ASVs\n",
    "\n",
    "palette = ['firebrick', 'lightcoral']\n",
    "\n",
    "\n",
    "plt.figure(figsize=(1.59, 1.7))\n",
    "sns.boxplot(data=df_observed_B, x='Group', y='value', palette=palette)\n",
    "\n",
    "plt.yticks(fontsize=9)\n",
    "plt.xticks(fontsize=9)\n",
    "plt.ylim(0, 150)\n",
    "plt.ylabel('')\n",
    "plt.xlabel('')\n",
    "plt.title('B-type', fontsize=9)\n",
    "\n",
    "plt.tight_layout()\n",
    "plt.savefig('./Figures/observed_B.png', dpi=500)\n",
    "plt.show()"
   ]
  },
  {
   "cell_type": "code",
   "execution_count": null,
   "metadata": {},
   "outputs": [
    {
     "data": {
      "image/png": "[encoded data removed]",
      "text/plain": [
       "<Figure size 128x170 with 1 Axes>"
      ]
     },
     "metadata": {},
     "output_type": "display_data"
    }
   ],
   "source": [
    "# Figure 2A, Observed ASVs\n",
    "\n",
    "palette = ['dodgerblue', 'teal']\n",
    "\n",
    "plt.figure(figsize=(1.28, 1.7))\n",
    "sns.boxplot(data=df_observed_P, x='Group', y='value', palette=palette)\n",
    "\n",
    "# plt.xticks(['PBS', 'PBS-S', 'B193'], ['PBS-N', 'PBS-S', 'B193'],fontsize=9)\n",
    "plt.yticks(fontsize=9)\n",
    "plt.xticks(fontsize=9)\n",
    "plt.ylim(0, 150)\n",
    "plt.ylabel('')\n",
    "plt.xlabel('')\n",
    "plt.yticks([])\n",
    "plt.title('P-type', fontsize=9)\n",
    "\n",
    "plt.tight_layout()\n",
    "plt.savefig('./Figures/observed_P.png', dpi=500)"
   ]
  },
  {
   "cell_type": "code",
   "execution_count": 39,
   "metadata": {},
   "outputs": [],
   "source": [
    "df_shannon = pd.read_excel('./Data/diversity_summary_250602.xlsx', sheet_name='f_shannon')\n",
    "\n",
    "df_shannon_B = df_shannon[df_shannon['Enterotype'] == 'Bacteroides']\n",
    "df_shannon_P = df_shannon[df_shannon['Enterotype'] == 'Prevotella']"
   ]
  },
  {
   "cell_type": "code",
   "execution_count": null,
   "metadata": {},
   "outputs": [
    {
     "data": {
      "image/png": "[encoded data removed]",
      "text/plain": [
       "<Figure size 144x170 with 1 Axes>"
      ]
     },
     "metadata": {},
     "output_type": "display_data"
    }
   ],
   "source": [
    "# Figure 2B, Shannon index\n",
    "\n",
    "palette = ['firebrick', 'lightcoral']\n",
    "\n",
    "\n",
    "plt.figure(figsize=(1.44, 1.7))\n",
    "sns.boxplot(data=df_shannon_B, x='Group', y='value', palette=palette)\n",
    "\n",
    "# plt.xticks(['PBS', 'PBS-S', 'B193'], ['PBS-N', 'PBS-S', 'B193'],fontsize=9)\n",
    "plt.yticks(fontsize=9)\n",
    "plt.xticks(fontsize=9)\n",
    "plt.ylim(2, 5)\n",
    "plt.ylabel('')\n",
    "plt.xlabel('')\n",
    "plt.title('B-type', fontsize=9)\n",
    "\n",
    "plt.tight_layout()\n",
    "plt.savefig('./Figures/shannon_B.png', dpi=500)\n",
    "plt.show()"
   ]
  },
  {
   "cell_type": "code",
   "execution_count": null,
   "metadata": {},
   "outputs": [
    {
     "data": {
      "image/png": "[encoded data removed]",
      "text/plain": [
       "<Figure size 128x170 with 1 Axes>"
      ]
     },
     "metadata": {},
     "output_type": "display_data"
    }
   ],
   "source": [
    "# Figure 2B, Shannon index\n",
    "\n",
    "palette = ['dodgerblue', 'teal']\n",
    "\n",
    "plt.figure(figsize=(1.28, 1.7))\n",
    "sns.boxplot(data=df_shannon_P, x='Group', y='value', palette=palette)\n",
    "\n",
    "# plt.xticks(['PBS', 'PBS-S', 'B193'], ['PBS-N', 'PBS-S', 'B193'],fontsize=9)\n",
    "plt.yticks(fontsize=9)\n",
    "plt.xticks(fontsize=9)\n",
    "plt.ylim(2, 5)\n",
    "plt.ylabel('')\n",
    "plt.xlabel('')\n",
    "plt.yticks([])\n",
    "plt.title('P-type', fontsize=9)\n",
    "\n",
    "plt.tight_layout()\n",
    "plt.savefig('./Figures/shannon_P.png', dpi=500)"
   ]
  },
  {
   "cell_type": "code",
   "execution_count": 4,
   "metadata": {},
   "outputs": [],
   "source": [
    "df_FD = pd.read_excel('./Data/diversity_summary_250602.xlsx', sheet_name='FD')\n",
    "\n",
    "df_FD_B = df_FD[df_FD['Enterotype'] == 'Bacteroides']\n",
    "df_FD_P = df_FD[df_FD['Enterotype'] == 'Prevotella']"
   ]
  },
  {
   "cell_type": "code",
   "execution_count": null,
   "metadata": {},
   "outputs": [
    {
     "data": {
      "image/png": "[encoded data removed]",
      "text/plain": [
       "<Figure size 150x170 with 1 Axes>"
      ]
     },
     "metadata": {},
     "output_type": "display_data"
    }
   ],
   "source": [
    "# Figure 2C, Faith's Phylogenetic diversity\n",
    "\n",
    "\n",
    "palette = ['firebrick', 'lightcoral']\n",
    "\n",
    "\n",
    "plt.figure(figsize=(1.50, 1.7))\n",
    "sns.boxplot(data=df_FD_B, x='Group', y='value', palette=palette)\n",
    "\n",
    "# plt.xticks(['PBS', 'PBS-S', 'B193'], ['PBS-N', 'PBS-S', 'B193'],fontsize=9)\n",
    "plt.yticks(fontsize=9)\n",
    "plt.xticks(fontsize=9)\n",
    "plt.ylim(2, 15)\n",
    "plt.ylabel('')\n",
    "plt.xlabel('')\n",
    "plt.title('B-type', fontsize=9)\n",
    "\n",
    "plt.tight_layout()\n",
    "plt.savefig('./Figures/FD_B.png', dpi=500)\n",
    "plt.show()"
   ]
  },
  {
   "cell_type": "code",
   "execution_count": null,
   "metadata": {},
   "outputs": [
    {
     "data": {
      "image/png": "[encoded data removed]",
      "text/plain": [
       "<Figure size 128x170 with 1 Axes>"
      ]
     },
     "metadata": {},
     "output_type": "display_data"
    }
   ],
   "source": [
    "# Figure 2C, Faith's Phylogenetic diversity\n",
    "\n",
    "palette = ['dodgerblue', 'teal']\n",
    "\n",
    "plt.figure(figsize=(1.28, 1.7))\n",
    "sns.boxplot(data=df_FD_P, x='Group', y='value', palette=palette)\n",
    "\n",
    "# plt.xticks(['PBS', 'PBS-S', 'B193'], ['PBS-N', 'PBS-S', 'B193'],fontsize=9)\n",
    "plt.yticks(fontsize=9)\n",
    "plt.xticks(fontsize=9)\n",
    "plt.ylim(2, 15)\n",
    "plt.ylabel('')\n",
    "plt.xlabel('')\n",
    "plt.yticks([])\n",
    "plt.title('P-type', fontsize=9)\n",
    "\n",
    "plt.tight_layout()\n",
    "plt.savefig('./Figures/FD_P.png', dpi=500)"
   ]
  },
  {
   "cell_type": "code",
   "execution_count": null,
   "metadata": {},
   "outputs": [],
   "source": []
  }
 ],
 "metadata": {
  "kernelspec": {
   "display_name": "JINWOO",
   "language": "python",
   "name": "python3"
  },
  "language_info": {
   "codemirror_mode": {
    "name": "ipython",
    "version": 3
   },
   "file_extension": ".py",
   "mimetype": "text/x-python",
   "name": "python",
   "nbconvert_exporter": "python",
   "pygments_lexer": "ipython3",
   "version": "3.12.3"
  }
 },
 "nbformat": 4,
 "nbformat_minor": 2
}
