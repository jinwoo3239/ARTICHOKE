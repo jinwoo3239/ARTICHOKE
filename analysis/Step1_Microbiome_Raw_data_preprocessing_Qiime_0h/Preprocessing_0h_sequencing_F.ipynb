{
 "cells": [
  {
   "cell_type": "markdown",
   "metadata": {},
   "source": [
    "### Input Files for Analysis\n",
    "\n",
    "- **Raw Data Processing**  \n",
    "  Initial processing of all raw sequencing data was performed, and only the samples selected for downstream analysis were retained.  \n",
    "  The filtered datasets are stored in the `output` directory.\n",
    "\n",
    "- **Feature Table (`./output/filtered_yoo_0h_table.qza`)**  \n",
    "  This file contains the feature table generated through demultiplexing and denoising using the DADA2 plugin in QIIME 2.  \n",
    "  It includes only the 0-hour incubation samples that were selected for downstream analyses.\n",
    "\n",
    "All data processing and analyses were conducted using the QIIME 2 platform ([https://qiime2.org](https://qiime2.org)).\n",
    "\n",
    "## Database Information\n",
    "\n",
    "Due to file size limitations, the database could not be uploaded to GitHub.  \n",
    "Instead, the **SILVA database** was downloaded and used locally for analysis.\n",
    "\n",
    "The specific database file used in this study is:\n",
    "\n",
    "**`./DB/silva-138-99-515-806-nb-classifier.qza`**"
   ]
  },
  {
   "cell_type": "code",
   "execution_count": null,
   "metadata": {},
   "outputs": [
    {
     "name": "stdout",
     "output_type": "stream",
     "text": [
      "\u001b[32mSaved Visualization to: output/filtered_yoo_0h_table.qzv\u001b[0m\n",
      "\u001b[0mPress the 'q' key, Control-C, or Control-D to quit. This view may no longer be accessible or work correctly after quitting.^C\n"
     ]
    }
   ],
   "source": [
    "# To determine the appropriate sequencing depth for rarefaction, the feature table (QZA) was converted to a QZV file and visualized in QIIME 2.\n",
    "# Based on the sequencing depth distribution, a minimum depth of 2,425 reads was selected for rarefaction in subsequent diversity analyses.\n",
    "\n",
    "!qiime feature-table summarize \\\n",
    "    --i-table output/filtered_yoo_0h_table.qza \\\n",
    "    --o-visualization output/filtered_yoo_0h_table.qzv\n",
    "\n",
    "# rarefied 2425\n",
    "!qiime tools view output/filtered_yoo_0h_table.qzv"
   ]
  },
  {
   "cell_type": "code",
   "execution_count": null,
   "metadata": {},
   "outputs": [
    {
     "name": "stdout",
     "output_type": "stream",
     "text": [
      "\u001b[32mSaved FeatureData[Taxonomy] to: output/taxonomy_yoo_0h.qza\u001b[0m\n",
      "\u001b[0m"
     ]
    }
   ],
   "source": [
    "# taxanomy\n",
    "\n",
    "!qiime feature-classifier classify-sklearn \\\n",
    "  --i-classifier './DB/silva-138-99-515-806-nb-classifier.qza' \\\n",
    "  --i-reads output/filtered_yoo_0h_rep_seqs.qza \\\n",
    "  --o-classification output/taxonomy_yoo_0h.qza\n"
   ]
  },
  {
   "cell_type": "code",
   "execution_count": 4,
   "metadata": {},
   "outputs": [
    {
     "name": "stdout",
     "output_type": "stream",
     "text": [
      "\u001b[32mSaved FeatureData[AlignedSequence] to: output/aligned_rep_seqs_yoo_0h.qza\u001b[0m\n",
      "\u001b[32mSaved FeatureData[AlignedSequence] to: output/masked_aligned_rep_seqs_yoo_0h.qza\u001b[0m\n",
      "\u001b[32mSaved Phylogeny[Unrooted] to: output/unrooted-tree_0h.qza\u001b[0m\n",
      "\u001b[32mSaved Phylogeny[Rooted] to: output/rooted-tree_0h.qza\u001b[0m\n",
      "\u001b[0m"
     ]
    }
   ],
   "source": [
    "!qiime phylogeny align-to-tree-mafft-fasttree \\\n",
    "  --i-sequences output/filtered_yoo_0h_rep_seqs.qza \\\n",
    "  --o-alignment output/aligned_rep_seqs_yoo_0h.qza \\\n",
    "  --o-masked-alignment output/masked_aligned_rep_seqs_yoo_0h.qza \\\n",
    "  --o-tree output/unrooted-tree_0h.qza \\\n",
    "  --o-rooted-tree output/rooted-tree_0h.qza"
   ]
  },
  {
   "cell_type": "code",
   "execution_count": 6,
   "metadata": {},
   "outputs": [
    {
     "name": "stdout",
     "output_type": "stream",
     "text": [
      "\u001b[32mSaved FeatureTable[Frequency] to: core-metrics-results-enterotype_0h/rarefied_table.qza\u001b[0m\n",
      "\u001b[32mSaved SampleData[AlphaDiversity] to: core-metrics-results-enterotype_0h/faith_pd_vector.qza\u001b[0m\n",
      "\u001b[32mSaved SampleData[AlphaDiversity] to: core-metrics-results-enterotype_0h/observed_features_vector.qza\u001b[0m\n",
      "\u001b[32mSaved SampleData[AlphaDiversity] to: core-metrics-results-enterotype_0h/shannon_vector.qza\u001b[0m\n",
      "\u001b[32mSaved SampleData[AlphaDiversity] to: core-metrics-results-enterotype_0h/evenness_vector.qza\u001b[0m\n",
      "\u001b[32mSaved DistanceMatrix to: core-metrics-results-enterotype_0h/unweighted_unifrac_distance_matrix.qza\u001b[0m\n",
      "\u001b[32mSaved DistanceMatrix to: core-metrics-results-enterotype_0h/weighted_unifrac_distance_matrix.qza\u001b[0m\n",
      "\u001b[32mSaved DistanceMatrix to: core-metrics-results-enterotype_0h/jaccard_distance_matrix.qza\u001b[0m\n",
      "\u001b[32mSaved DistanceMatrix to: core-metrics-results-enterotype_0h/bray_curtis_distance_matrix.qza\u001b[0m\n",
      "\u001b[32mSaved PCoAResults to: core-metrics-results-enterotype_0h/unweighted_unifrac_pcoa_results.qza\u001b[0m\n",
      "\u001b[32mSaved PCoAResults to: core-metrics-results-enterotype_0h/weighted_unifrac_pcoa_results.qza\u001b[0m\n",
      "\u001b[32mSaved PCoAResults to: core-metrics-results-enterotype_0h/jaccard_pcoa_results.qza\u001b[0m\n",
      "\u001b[32mSaved PCoAResults to: core-metrics-results-enterotype_0h/bray_curtis_pcoa_results.qza\u001b[0m\n",
      "\u001b[32mSaved Visualization to: core-metrics-results-enterotype_0h/unweighted_unifrac_emperor.qzv\u001b[0m\n",
      "\u001b[32mSaved Visualization to: core-metrics-results-enterotype_0h/weighted_unifrac_emperor.qzv\u001b[0m\n",
      "\u001b[32mSaved Visualization to: core-metrics-results-enterotype_0h/jaccard_emperor.qzv\u001b[0m\n",
      "\u001b[32mSaved Visualization to: core-metrics-results-enterotype_0h/bray_curtis_emperor.qzv\u001b[0m\n",
      "\u001b[0m"
     ]
    }
   ],
   "source": [
    "!qiime diversity core-metrics-phylogenetic \\\n",
    "  --i-phylogeny output/rooted-tree_0h.qza \\\n",
    "  --i-table output/filtered_yoo_0h_table.qza \\\n",
    "  --p-sampling-depth 2425 \\\n",
    "  --m-metadata-file data/Merge_metadata_250526_F_s18.txt \\\n",
    "  --output-dir core-metrics-results-enterotype_0h"
   ]
  },
  {
   "cell_type": "code",
   "execution_count": 8,
   "metadata": {},
   "outputs": [
    {
     "name": "stdout",
     "output_type": "stream",
     "text": [
      "\u001b[32mSaved FeatureTable[Frequency] to: level6_output/yoo_0h_l6.qza\u001b[0m\n",
      "\u001b[0m"
     ]
    }
   ],
   "source": [
    "!qiime taxa collapse \\\n",
    "  --i-table core-metrics-results-enterotype_0h/rarefied_table.qza \\\n",
    "  --i-taxonomy output/taxonomy_yoo_0h.qza \\\n",
    "  --p-level 6 \\\n",
    "  --o-collapsed-table level6_output/yoo_0h_l6.qza"
   ]
  },
  {
   "cell_type": "markdown",
   "metadata": {},
   "source": [
    "### File Generation for Analysis\n",
    "\n",
    "- **QZA and BIOM File Generation**  \n",
    "  From the  feature table, we generated the necessary `.qza` and `.biom` files for downstream analyses.  \n",
    "  These files serve as the basis for taxonomic classification and diversity analysis. \n",
    "\n",
    "- **Final Input for Enterotype Analysis (`rarefied_yoo_0h_l6.tsv`)**  \n",
    "  The file `rarefied_yoo_0h_l6.tsv`, located in the `level6_output/` directory, was used as the final input for enterotype analysis.  \n",
    "  This file was generated after rarefaction and taxonomic summarization at level 6.\n"
   ]
  },
  {
   "cell_type": "code",
   "execution_count": 9,
   "metadata": {},
   "outputs": [],
   "source": [
    "import os\n",
    "import zipfile"
   ]
  },
  {
   "cell_type": "code",
   "execution_count": null,
   "metadata": {},
   "outputs": [],
   "source": [
    "def extract_qza_files(folder_path):\n",
    "    qza_files = []\n",
    "    for root, _, files in os.walk(folder_path):\n",
    "        for file in files:\n",
    "            if file.endswith(\".qza\"):\n",
    "                qza_files.append(os.path.join(root, file))\n",
    "\n",
    "    for qza_file in qza_files:\n",
    "        output_dir = f\"{os.path.splitext(qza_file)[0]}_extracted\"\n",
    "        os.makedirs(output_dir, exist_ok=True)\n",
    "        \n",
    "        try:\n",
    "            with zipfile.ZipFile(qza_file, 'r') as zip_ref:\n",
    "                zip_ref.extractall(output_dir)\n",
    "            # print(f\"Successfully extracted: {qza_file} -> {output_dir}\")\n",
    "        \n",
    "        except zipfile.BadZipFile:\n",
    "            print(f\"Error extracting {qza_file}: Not a valid .zip file\")\n"
   ]
  },
  {
   "cell_type": "code",
   "execution_count": 11,
   "metadata": {},
   "outputs": [],
   "source": [
    "extract_qza_files('level6_output')"
   ]
  },
  {
   "cell_type": "code",
   "execution_count": null,
   "metadata": {},
   "outputs": [],
   "source": [
    "# biom file convert\n",
    "!biom convert -i level6_output/feature-table.biom -o level6_output/rarefied_yoo_0h_l6.tsv --to-tsv"
   ]
  },
  {
   "cell_type": "code",
   "execution_count": null,
   "metadata": {},
   "outputs": [],
   "source": []
  }
 ],
 "metadata": {
  "kernelspec": {
   "display_name": "qiime2-amplicon-2024.2",
   "language": "python",
   "name": "python3"
  },
  "language_info": {
   "codemirror_mode": {
    "name": "ipython",
    "version": 3
   },
   "file_extension": ".py",
   "mimetype": "text/x-python",
   "name": "python",
   "nbconvert_exporter": "python",
   "pygments_lexer": "ipython3",
   "version": "3.8.18"
  },
  "orig_nbformat": 4
 },
 "nbformat": 4,
 "nbformat_minor": 2
}
