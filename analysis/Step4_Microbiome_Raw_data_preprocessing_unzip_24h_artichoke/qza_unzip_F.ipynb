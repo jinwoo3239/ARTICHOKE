{
 "cells": [
  {
   "cell_type": "markdown",
   "metadata": {},
   "source": [
    "### Data Folder Overview\n",
    "\n",
    "The `data` folder contains the following `.qza` files:\n",
    "\n",
    "- `rarefied_table.qza`: Generated from the `core-metrics-phylogenetic` analysis with a sampling depth of 3815.  \n",
    "- `rooted-tree_24h_A.qza`: Produced using the `align-to-tree-mafft-fasttree` pipeline.  \n",
    "- `taxonomy.qza`: Also derived from the `align-to-tree-mafft-fasttree` pipeline.\n",
    "\n",
    "These files were obtained from the earlier analysis titled  \n",
    "**`Step3_Microbiome_Raw_data_preprocessing_Qiime_24h_artichoke`**.\n",
    "\n",
    "In this step, we will extract the `.biom` files by unzipping the `.qza` files,  \n",
    "and convert them into `.tsv` format for further analysis.\n",
    "\n",
    "### File Generation for Analysis\n",
    "- **QZA and BIOM File Generation**  \n",
    "  From the  feature table, we generated the necessary `.qza` and `.biom` files for downstream analyses.  \n",
    "  These files serve as the basis for taxonomic and diversity analysis. "
   ]
  },
  {
   "cell_type": "code",
   "execution_count": 13,
   "metadata": {},
   "outputs": [],
   "source": [
    "import os\n",
    "import zipfile"
   ]
  },
  {
   "cell_type": "code",
   "execution_count": 14,
   "metadata": {},
   "outputs": [],
   "source": [
    "# To extract the qza data files for future analysis, move the qza files to the export_qza_dataset directory."
   ]
  },
  {
   "cell_type": "code",
   "execution_count": 15,
   "metadata": {},
   "outputs": [],
   "source": [
    "def extract_qza_files(folder_path):\n",
    "    qza_files = []\n",
    "    for root, _, files in os.walk(folder_path):\n",
    "        for file in files:\n",
    "            if file.endswith(\".qza\"):\n",
    "                qza_files.append(os.path.join(root, file))\n",
    "\n",
    "    for qza_file in qza_files:\n",
    "        output_dir = f\"{os.path.splitext(qza_file)[0]}_extracted\"\n",
    "        os.makedirs(output_dir, exist_ok=True)\n",
    "        \n",
    "        try:\n",
    "            with zipfile.ZipFile(qza_file, 'r') as zip_ref:\n",
    "                zip_ref.extractall(output_dir)\n",
    "        \n",
    "        except zipfile.BadZipFile:\n",
    "            print(f\"Error extracting {qza_file}: Not a valid .zip file\")\n"
   ]
  },
  {
   "cell_type": "code",
   "execution_count": 19,
   "metadata": {},
   "outputs": [],
   "source": [
    "# extract_qza_files('data')"
   ]
  },
  {
   "cell_type": "code",
   "execution_count": 10,
   "metadata": {},
   "outputs": [],
   "source": [
    "# When extracting qza files later, biom files will be generated. To convert them to tsv format, gather them in the export_biom_dataset directory and extract them.\n",
    "# At this time, make sure to properly name the biom files to avoid duplication."
   ]
  },
  {
   "cell_type": "code",
   "execution_count": 18,
   "metadata": {},
   "outputs": [],
   "source": [
    "!biom convert -i extracted/rarefied_table.biom -o extracted/rarefied_table.tsv --to-tsv\n",
    "!biom convert -i extracted/filtered_yoo_24h_table_A.biom -o extracted/filtered_yoo_24h_table_A.tsv --to-tsv"
   ]
  },
  {
   "cell_type": "code",
   "execution_count": null,
   "metadata": {},
   "outputs": [],
   "source": []
  }
 ],
 "metadata": {
  "kernelspec": {
   "display_name": "JINWOO",
   "language": "python",
   "name": "python3"
  },
  "language_info": {
   "codemirror_mode": {
    "name": "ipython",
    "version": 3
   },
   "file_extension": ".py",
   "mimetype": "text/x-python",
   "name": "python",
   "nbconvert_exporter": "python",
   "pygments_lexer": "ipython3",
   "version": "3.12.3"
  }
 },
 "nbformat": 4,
 "nbformat_minor": 2
}
