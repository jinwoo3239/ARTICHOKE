{
 "cells": [
  {
   "cell_type": "markdown",
   "metadata": {},
   "source": [
    "This section contains the code used to generate figures in a Jupyter notebook.  \n",
    "All analyses were performed using MicrobiomeAnalyst.\n",
    "\n",
    "To conduct the analysis in MicrobiomeAnalyst, the following four input files were used:\n",
    "\n",
    "- `asv.csv`  \n",
    "- `meta.csv`  \n",
    "  *(both generated in Step 5)*  \n",
    "- `taxa_silva_rev.csv`  \n",
    "- `tree.nwk`  \n",
    "  *(both derived from QIIME2 outputs)*\n",
    "\n",
    "The results were saved separately based on taxonomic level:  \n",
    "- **Genus-level analysis**: `genus_analysis_250609.xlsx`  \n",
    "- **Phylum-level analysis**: `phylum_analysis_250609.xlsx`"
   ]
  },
  {
   "cell_type": "code",
   "execution_count": null,
   "metadata": {},
   "outputs": [],
   "source": [
    "import pandas as pd\n",
    "\n",
    "import matplotlib.pyplot as plt\n",
    "import seaborn as sns\n",
    "\n",
    "plt.rcParams['font.family'] = 'Arial'\n",
    "\n",
    "import warnings\n",
    "warnings.filterwarnings(\"ignore\")"
   ]
  },
  {
   "cell_type": "code",
   "execution_count": null,
   "metadata": {},
   "outputs": [
    {
     "data": {
      "text/html": [
       "<div>\n",
       "<style scoped>\n",
       "    .dataframe tbody tr th:only-of-type {\n",
       "        vertical-align: middle;\n",
       "    }\n",
       "\n",
       "    .dataframe tbody tr th {\n",
       "        vertical-align: top;\n",
       "    }\n",
       "\n",
       "    .dataframe thead th {\n",
       "        text-align: right;\n",
       "    }\n",
       "</style>\n",
       "<table border=\"1\" class=\"dataframe\">\n",
       "  <thead>\n",
       "    <tr style=\"text-align: right;\">\n",
       "      <th>features</th>\n",
       "      <th>Firmicutes</th>\n",
       "      <th>Actinobacteriota</th>\n",
       "      <th>Bacteroidota</th>\n",
       "      <th>Proteobacteria</th>\n",
       "      <th>Desulfobacterota</th>\n",
       "      <th>Verrucomicrobiota</th>\n",
       "      <th>Fusobacteriota</th>\n",
       "      <th>Euryarchaeota</th>\n",
       "    </tr>\n",
       "  </thead>\n",
       "  <tbody>\n",
       "    <tr>\n",
       "      <th>Control</th>\n",
       "      <td>51.000318</td>\n",
       "      <td>7.263675</td>\n",
       "      <td>28.193061</td>\n",
       "      <td>11.874233</td>\n",
       "      <td>0.691129</td>\n",
       "      <td>0.063657</td>\n",
       "      <td>0.913927</td>\n",
       "      <td>0.0</td>\n",
       "    </tr>\n",
       "    <tr>\n",
       "      <th>Artichoke</th>\n",
       "      <td>63.156265</td>\n",
       "      <td>19.067628</td>\n",
       "      <td>11.095139</td>\n",
       "      <td>6.530585</td>\n",
       "      <td>0.148171</td>\n",
       "      <td>0.002212</td>\n",
       "      <td>0.000000</td>\n",
       "      <td>0.0</td>\n",
       "    </tr>\n",
       "  </tbody>\n",
       "</table>\n",
       "</div>"
      ],
      "text/plain": [
       "features   Firmicutes  Actinobacteriota  Bacteroidota  Proteobacteria  \\\n",
       "Control     51.000318          7.263675     28.193061       11.874233   \n",
       "Artichoke   63.156265         19.067628     11.095139        6.530585   \n",
       "\n",
       "features   Desulfobacterota  Verrucomicrobiota  Fusobacteriota  Euryarchaeota  \n",
       "Control            0.691129           0.063657        0.913927            0.0  \n",
       "Artichoke          0.148171           0.002212        0.000000            0.0  "
      ]
     },
     "execution_count": 2,
     "metadata": {},
     "output_type": "execute_result"
    }
   ],
   "source": [
    "# The sequence data were processed using QIIME 2 to generate ASV and metadata files.\n",
    "# These outputs were then uploaded to MicrobiomeAnalyst for downstream analysis.\n",
    "\n",
    "# Phylum\n",
    "# B-type\n",
    "\n",
    "df_p_tax_b = pd.read_excel('./Data/MicrobiomeAnalyst/phylum_analysis_250609.xlsx', sheet_name='B_type_phylum')\n",
    "df_p_tax_b= df_p_tax_b.set_index('features').T\n",
    "df_p_tax_b.head(2)"
   ]
  },
  {
   "cell_type": "code",
   "execution_count": null,
   "metadata": {},
   "outputs": [
    {
     "data": {
      "image/png": "[encoded data removed]",
      "text/plain": [
       "<Figure size 340x200 with 1 Axes>"
      ]
     },
     "metadata": {},
     "output_type": "display_data"
    }
   ],
   "source": [
    "# Phylum\n",
    "# B-type\n",
    "# Figure 3A\n",
    "\n",
    "df_p_tax_b.plot(kind='bar', stacked=True,figsize=(3.4, 2), colormap='Pastel1', edgecolor='k', linewidth=0.5, width=0.7)\n",
    "plt.xticks(rotation=0, fontsize=9)\n",
    "plt.yticks(fontsize=9)\n",
    "plt.ylabel('Relative Abundance (%)', fontsize=9)\n",
    "plt.legend(bbox_to_anchor=(1.05, 1), fontsize=8.5)\n",
    "plt.tight_layout()\n",
    "plt.savefig('./output_figure/phylum_abundance_Btype.png', dpi=600)\n",
    "plt.show()"
   ]
  },
  {
   "cell_type": "code",
   "execution_count": 6,
   "metadata": {},
   "outputs": [
    {
     "data": {
      "text/html": [
       "<div>\n",
       "<style scoped>\n",
       "    .dataframe tbody tr th:only-of-type {\n",
       "        vertical-align: middle;\n",
       "    }\n",
       "\n",
       "    .dataframe tbody tr th {\n",
       "        vertical-align: top;\n",
       "    }\n",
       "\n",
       "    .dataframe thead th {\n",
       "        text-align: right;\n",
       "    }\n",
       "</style>\n",
       "<table border=\"1\" class=\"dataframe\">\n",
       "  <thead>\n",
       "    <tr style=\"text-align: right;\">\n",
       "      <th>features</th>\n",
       "      <th>Firmicutes</th>\n",
       "      <th>Actinobacteriota</th>\n",
       "      <th>Bacteroidota</th>\n",
       "      <th>Proteobacteria</th>\n",
       "      <th>Desulfobacterota</th>\n",
       "      <th>Verrucomicrobiota</th>\n",
       "      <th>Fusobacteriota</th>\n",
       "      <th>Euryarchaeota</th>\n",
       "    </tr>\n",
       "  </thead>\n",
       "  <tbody>\n",
       "    <tr>\n",
       "      <th>Control</th>\n",
       "      <td>50.891005</td>\n",
       "      <td>4.257024</td>\n",
       "      <td>26.150292</td>\n",
       "      <td>17.541957</td>\n",
       "      <td>0.0</td>\n",
       "      <td>1.074863</td>\n",
       "      <td>0.0</td>\n",
       "      <td>0.084858</td>\n",
       "    </tr>\n",
       "    <tr>\n",
       "      <th>Artichoke</th>\n",
       "      <td>69.462089</td>\n",
       "      <td>14.285080</td>\n",
       "      <td>10.873717</td>\n",
       "      <td>5.308044</td>\n",
       "      <td>0.0</td>\n",
       "      <td>0.071070</td>\n",
       "      <td>0.0</td>\n",
       "      <td>0.000000</td>\n",
       "    </tr>\n",
       "  </tbody>\n",
       "</table>\n",
       "</div>"
      ],
      "text/plain": [
       "features   Firmicutes  Actinobacteriota  Bacteroidota  Proteobacteria  \\\n",
       "Control     50.891005          4.257024     26.150292       17.541957   \n",
       "Artichoke   69.462089         14.285080     10.873717        5.308044   \n",
       "\n",
       "features   Desulfobacterota  Verrucomicrobiota  Fusobacteriota  Euryarchaeota  \n",
       "Control                 0.0           1.074863             0.0       0.084858  \n",
       "Artichoke               0.0           0.071070             0.0       0.000000  "
      ]
     },
     "execution_count": 6,
     "metadata": {},
     "output_type": "execute_result"
    }
   ],
   "source": [
    "# Phylum\n",
    "# P-type\n",
    "\n",
    "df_p_tax_p = pd.read_excel('./Data/MicrobiomeAnalyst/phylum_analysis_250609.xlsx', sheet_name='P_type_phylum')\n",
    "df_p_tax_p= df_p_tax_p.set_index('features').T\n",
    "df_p_tax_p.head(2)"
   ]
  },
  {
   "cell_type": "code",
   "execution_count": null,
   "metadata": {},
   "outputs": [
    {
     "data": {
      "image/png": "[encoded data removed]",
      "text/plain": [
       "<Figure size 310x200 with 1 Axes>"
      ]
     },
     "metadata": {},
     "output_type": "display_data"
    }
   ],
   "source": [
    "# Phylum\n",
    "# Figure 3A\n",
    "\n",
    "df_p_tax_p.plot(kind='bar', stacked=True,figsize=(3.1, 2), colormap='Pastel1', edgecolor='k', linewidth=0.5, width=0.7)\n",
    "plt.xticks(rotation=0, fontsize=9)\n",
    "plt.yticks([], fontsize=9)\n",
    "plt.ylabel('Relative Abundance (%)', fontsize=9)\n",
    "plt.legend(bbox_to_anchor=(1.05, 1), fontsize=8.5)\n",
    "plt.tight_layout()\n",
    "plt.savefig('./output_figure/phylum_abundance_Ptype.png', dpi=600)\n",
    "plt.show()"
   ]
  },
  {
   "cell_type": "code",
   "execution_count": null,
   "metadata": {},
   "outputs": [
    {
     "data": {
      "image/png": "[encoded data removed]",
      "text/plain": [
       "<Figure size 170x190 with 1 Axes>"
      ]
     },
     "metadata": {},
     "output_type": "display_data"
    }
   ],
   "source": [
    "# F_B ratio\n",
    "# B-type\n",
    "# palette = ['firebrick', 'lightcoral', 'dodgerblue','teal', ]\n",
    "# Figure 3B\n",
    "\n",
    "df_fb = pd.read_excel('./Data/MicrobiomeAnalyst/phylum_analysis_250609.xlsx', sheet_name='B_type_FBratio')\n",
    "\n",
    "\n",
    "feat = 'value'\n",
    "orders = ['Control', 'Artichoke']\n",
    "g_colors = [ 'firebrick', 'lightcoral',]\n",
    "\n",
    "\n",
    "data = df_fb\n",
    "\n",
    "plt.figure(figsize=(1.7, 1.9))\n",
    "sns.stripplot(data=data, x='Group', y=feat, jitter=True, edgecolor='gray', linewidth=0.5, palette=g_colors, order=orders)\n",
    "\n",
    "ax = sns.boxplot(data=data, x='Group', y=feat, order=orders, palette=g_colors, showfliers=False)\n",
    "for patch in ax.patches:\n",
    "    patch.set_alpha(0.6)  \n",
    "\n",
    "plt.title('B-type', fontsize=9)\n",
    "plt.xlabel('')\n",
    "plt.ylabel('Ratio (%)', fontsize=9)\n",
    "plt.xticks(rotation=0, fontsize=9)\n",
    "plt.yticks(fontsize=9)\n",
    "plt.ylim([-5, 80])\n",
    "plt.tight_layout()\n",
    "plt.savefig('./output_figure/F_B_ratio_Btype.png', dpi=600)\n",
    "\n",
    "plt.show()"
   ]
  },
  {
   "cell_type": "code",
   "execution_count": null,
   "metadata": {},
   "outputs": [
    {
     "data": {
      "image/png": "[encoded data removed]",
      "text/plain": [
       "<Figure size 128x190 with 1 Axes>"
      ]
     },
     "metadata": {},
     "output_type": "display_data"
    }
   ],
   "source": [
    "# F_B ratio\n",
    "# P-type\n",
    "# palette = ['firebrick', 'lightcoral', 'dodgerblue','teal', ]\n",
    "# Figure 3B\n",
    "\n",
    "df_fb = pd.read_excel('./Data/MicrobiomeAnalyst/phylum_analysis_250609.xlsx', sheet_name='P_type_FBratio')\n",
    "\n",
    "\n",
    "feat = 'value'\n",
    "orders = ['Control', 'Artichoke']\n",
    "g_colors = [ 'dodgerblue', 'teal',]\n",
    "\n",
    "\n",
    "data = df_fb\n",
    "\n",
    "plt.figure(figsize=(1.28, 1.9))\n",
    "sns.stripplot(data=data, x='Group', y=feat, jitter=True, edgecolor='gray', linewidth=0.5, palette=g_colors, order=orders)\n",
    "\n",
    "ax = sns.boxplot(data=data, x='Group', y=feat, order=orders, palette=g_colors, showfliers=False)\n",
    "for patch in ax.patches:\n",
    "    patch.set_alpha(0.6)  \n",
    "\n",
    "plt.title('P-type', fontsize=9)\n",
    "plt.xlabel('')\n",
    "plt.ylabel('', fontsize=9)\n",
    "plt.xticks(rotation=0, fontsize=9, )\n",
    "plt.yticks([], fontsize=9)\n",
    "plt.ylim([-5, 80])\n",
    "\n",
    "plt.tight_layout()\n",
    "plt.savefig('./output_figure/F_B_ratio_Ptype.png', dpi=600)\n",
    "\n",
    "plt.show()"
   ]
  },
  {
   "cell_type": "code",
   "execution_count": null,
   "metadata": {},
   "outputs": [],
   "source": []
  },
  {
   "cell_type": "code",
   "execution_count": null,
   "metadata": {},
   "outputs": [],
   "source": []
  }
 ],
 "metadata": {
  "kernelspec": {
   "display_name": "JINWOO",
   "language": "python",
   "name": "python3"
  },
  "language_info": {
   "codemirror_mode": {
    "name": "ipython",
    "version": 3
   },
   "file_extension": ".py",
   "mimetype": "text/x-python",
   "name": "python",
   "nbconvert_exporter": "python",
   "pygments_lexer": "ipython3",
   "version": "3.12.3"
  }
 },
 "nbformat": 4,
 "nbformat_minor": 2
}
