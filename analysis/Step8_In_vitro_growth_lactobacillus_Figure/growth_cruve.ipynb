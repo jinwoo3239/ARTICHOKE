{
 "cells": [
  {
   "cell_type": "code",
   "execution_count": 52,
   "id": "c8124474",
   "metadata": {},
   "outputs": [],
   "source": [
    "import pandas as pd\n",
    "import matplotlib.pyplot as plt\n",
    "import seaborn as sns\n",
    "\n",
    "plt.rcParams['font.family'] = 'Arial'\n",
    "\n",
    "import warnings\n",
    "warnings.filterwarnings(\"ignore\")"
   ]
  },
  {
   "cell_type": "code",
   "execution_count": null,
   "id": "56b51c96",
   "metadata": {},
   "outputs": [],
   "source": [
    "file_path = \"./data/strains_growth_curve.xlsx\"\n",
    "df = pd.read_excel(file_path, sheet_name='growth')"
   ]
  },
  {
   "cell_type": "code",
   "execution_count": 54,
   "id": "ed1c68ce",
   "metadata": {},
   "outputs": [],
   "source": [
    "df.columns = df.columns.str.strip()\n",
    "df['Strain'] = df['Strain'].astype(str).str.strip()"
   ]
  },
  {
   "cell_type": "code",
   "execution_count": 60,
   "id": "de9c4f67",
   "metadata": {},
   "outputs": [],
   "source": [
    "strain_name_dict = {\n",
    "    \"3260\": \"L. casei 3260\",\n",
    "    \"3594\": \"L. reuteri 3594\",\n",
    "    \"SJ_P2\": \"L. plantarum JCM 1149\",\n",
    "    \"3104\": \"L. plantarum 3104\",\n",
    "    \"53103\": \"L. rhamnosus L-GG\",\n",
    "}"
   ]
  },
  {
   "cell_type": "code",
   "execution_count": 61,
   "id": "4b5a1fea",
   "metadata": {},
   "outputs": [],
   "source": [
    "strain_order = [\"3260\", \"3594\", \"SJ_P2\", \"3104\", \"53103\",]\n",
    "treatment_order = [\"Control\", \"Artichoke\"]\n",
    "treatment_colors = [\"white\", \"black\"]"
   ]
  },
  {
   "cell_type": "code",
   "execution_count": 62,
   "id": "84f60137",
   "metadata": {},
   "outputs": [],
   "source": [
    "df = df[df['Strain'].isin(strain_order)]\n",
    "df['Strain'] = pd.Categorical(df['Strain'], categories=strain_order, ordered=True)\n",
    "df['Treatment'] = pd.Categorical(df['Treatment'], categories=treatment_order, ordered=True)\n",
    "df['Time'] = pd.Categorical(df['Time'], ordered=True, categories=sorted(df['Time'].unique(), key=lambda x: int(x.replace(\"h\", \"\"))))"
   ]
  },
  {
   "cell_type": "code",
   "execution_count": 63,
   "id": "24d5c5d0",
   "metadata": {},
   "outputs": [],
   "source": [
    "df['Strain_Full'] = df['Strain'].map(strain_name_dict)\n",
    "full_strain_order = [strain_name_dict[s] for s in strain_order]\n",
    "df['Strain_Full'] = pd.Categorical(df['Strain_Full'], categories=full_strain_order, ordered=True)"
   ]
  },
  {
   "cell_type": "code",
   "execution_count": null,
   "id": "8b3e9d99",
   "metadata": {},
   "outputs": [
    {
     "data": {
      "image/png": "[encoded data removed]",
      "text/plain": [
       "<Figure size 800x200 with 5 Axes>"
      ]
     },
     "metadata": {},
     "output_type": "display_data"
    }
   ],
   "source": [
    "num_strains = len(full_strain_order)\n",
    "plt.figure(figsize=(8, 2))\n",
    "\n",
    "for i, strain in enumerate(full_strain_order):\n",
    "    plt.subplot(1, num_strains, i + 1)\n",
    "    df_strain = df[df['Strain_Full'] == strain]\n",
    "    \n",
    "    sns.barplot(\n",
    "        data=df_strain,\n",
    "        x='Time',\n",
    "        y='OD',\n",
    "        hue='Treatment',\n",
    "        hue_order=treatment_order,\n",
    "        palette=treatment_colors,\n",
    "        edgecolor='black',\n",
    "        linewidth=0.5,\n",
    "        ci='sd',\n",
    "        capsize=0.2,\n",
    "        errwidth=0.5\n",
    "    )\n",
    "    \n",
    "    plt.title(strain, fontsize=9, fontstyle='italic')\n",
    "    plt.ylim(0, 0.48)  # Y축 고정\n",
    "    plt.xticks(fontsize=9, rotation=0)\n",
    "    plt.yticks(fontsize=9)\n",
    "    plt.xlabel('')\n",
    "\n",
    "    if i % num_strains == 0:\n",
    "        plt.ylabel(\"Optical Density (OD)\", fontsize=9)\n",
    "    else:\n",
    "        plt.ylabel(\"\")\n",
    "    \n",
    "\n",
    "    plt.legend().remove()\n",
    "\n",
    "plt.tight_layout()\n",
    "plt.savefig('growth_r.png', dpi=600)\n",
    "plt.show()\n"
   ]
  },
  {
   "cell_type": "code",
   "execution_count": null,
   "id": "94d87490",
   "metadata": {},
   "outputs": [],
   "source": []
  }
 ],
 "metadata": {
  "kernelspec": {
   "display_name": "JINWOO",
   "language": "python",
   "name": "python3"
  },
  "language_info": {
   "codemirror_mode": {
    "name": "ipython",
    "version": 3
   },
   "file_extension": ".py",
   "mimetype": "text/x-python",
   "name": "python",
   "nbconvert_exporter": "python",
   "pygments_lexer": "ipython3",
   "version": "3.12.3"
  }
 },
 "nbformat": 4,
 "nbformat_minor": 5
}
