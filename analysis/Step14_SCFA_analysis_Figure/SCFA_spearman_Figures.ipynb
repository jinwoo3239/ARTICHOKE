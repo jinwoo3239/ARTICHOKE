{
 "cells": [
  {
   "cell_type": "code",
   "execution_count": 1,
   "id": "bc97a508",
   "metadata": {},
   "outputs": [],
   "source": [
    "import pandas as pd\n",
    "\n",
    "from scipy.stats import spearmanr\n",
    "from statsmodels.stats.multitest import multipletests\n",
    "\n",
    "import matplotlib.pyplot as plt\n",
    "import seaborn as sns"
   ]
  },
  {
   "cell_type": "code",
   "execution_count": 2,
   "id": "b631a64b",
   "metadata": {},
   "outputs": [],
   "source": [
    "df_key = pd.read_excel('./data/250618_SCFA.xlsx', sheet_name='Merge_rel_F2')\n",
    "# df_key.head()"
   ]
  },
  {
   "cell_type": "code",
   "execution_count": 3,
   "id": "c8dd1073",
   "metadata": {},
   "outputs": [],
   "source": [
    "genus_list = ['Bifidobacterium','Faecalibacterium','Lachnospiraceae','Lactococcus','Leuconostoc','Weissella']\n",
    "x_features = genus_list\n",
    "y_features = ['AA', 'PA', 'BA']"
   ]
  },
  {
   "cell_type": "code",
   "execution_count": 4,
   "id": "0cddc752",
   "metadata": {},
   "outputs": [],
   "source": [
    "corr_matrix = pd.DataFrame(index=x_features, columns=y_features)\n",
    "pval_matrix = pd.DataFrame(index=x_features, columns=y_features)"
   ]
  },
  {
   "cell_type": "code",
   "execution_count": 5,
   "id": "3b5293fc",
   "metadata": {},
   "outputs": [],
   "source": [
    "for x in x_features:\n",
    "    for y in y_features:\n",
    "        corr, pval = spearmanr(df_key[x], df_key[y])\n",
    "        corr_matrix.loc[x, y] = corr\n",
    "        pval_matrix.loc[x, y] = pval\n",
    "\n",
    "# Convert to float\n",
    "corr_matrix = corr_matrix.astype(float)\n",
    "pval_matrix = pval_matrix.astype(float)\n"
   ]
  },
  {
   "cell_type": "code",
   "execution_count": 6,
   "id": "e4089d9a",
   "metadata": {},
   "outputs": [
    {
     "data": {
      "text/html": [
       "<div>\n",
       "<style scoped>\n",
       "    .dataframe tbody tr th:only-of-type {\n",
       "        vertical-align: middle;\n",
       "    }\n",
       "\n",
       "    .dataframe tbody tr th {\n",
       "        vertical-align: top;\n",
       "    }\n",
       "\n",
       "    .dataframe thead th {\n",
       "        text-align: right;\n",
       "    }\n",
       "</style>\n",
       "<table border=\"1\" class=\"dataframe\">\n",
       "  <thead>\n",
       "    <tr style=\"text-align: right;\">\n",
       "      <th></th>\n",
       "      <th>AA</th>\n",
       "      <th>PA</th>\n",
       "      <th>BA</th>\n",
       "    </tr>\n",
       "  </thead>\n",
       "  <tbody>\n",
       "    <tr>\n",
       "      <th>Bifidobacterium</th>\n",
       "      <td>0.659930</td>\n",
       "      <td>0.326683</td>\n",
       "      <td>0.677179</td>\n",
       "    </tr>\n",
       "    <tr>\n",
       "      <th>Faecalibacterium</th>\n",
       "      <td>0.601614</td>\n",
       "      <td>0.591626</td>\n",
       "      <td>0.670492</td>\n",
       "    </tr>\n",
       "    <tr>\n",
       "      <th>Lachnospiraceae</th>\n",
       "      <td>0.423110</td>\n",
       "      <td>0.407893</td>\n",
       "      <td>0.512865</td>\n",
       "    </tr>\n",
       "    <tr>\n",
       "      <th>Lactococcus</th>\n",
       "      <td>0.417254</td>\n",
       "      <td>0.576616</td>\n",
       "      <td>0.551439</td>\n",
       "    </tr>\n",
       "    <tr>\n",
       "      <th>Leuconostoc</th>\n",
       "      <td>0.661891</td>\n",
       "      <td>0.724746</td>\n",
       "      <td>0.813452</td>\n",
       "    </tr>\n",
       "    <tr>\n",
       "      <th>Weissella</th>\n",
       "      <td>0.706788</td>\n",
       "      <td>0.739175</td>\n",
       "      <td>0.806041</td>\n",
       "    </tr>\n",
       "  </tbody>\n",
       "</table>\n",
       "</div>"
      ],
      "text/plain": [
       "                        AA        PA        BA\n",
       "Bifidobacterium   0.659930  0.326683  0.677179\n",
       "Faecalibacterium  0.601614  0.591626  0.670492\n",
       "Lachnospiraceae   0.423110  0.407893  0.512865\n",
       "Lactococcus       0.417254  0.576616  0.551439\n",
       "Leuconostoc       0.661891  0.724746  0.813452\n",
       "Weissella         0.706788  0.739175  0.806041"
      ]
     },
     "execution_count": 6,
     "metadata": {},
     "output_type": "execute_result"
    }
   ],
   "source": [
    "corr_matrix"
   ]
  },
  {
   "cell_type": "code",
   "execution_count": 7,
   "id": "61613b56",
   "metadata": {},
   "outputs": [
    {
     "data": {
      "text/html": [
       "<div>\n",
       "<style scoped>\n",
       "    .dataframe tbody tr th:only-of-type {\n",
       "        vertical-align: middle;\n",
       "    }\n",
       "\n",
       "    .dataframe tbody tr th {\n",
       "        vertical-align: top;\n",
       "    }\n",
       "\n",
       "    .dataframe thead th {\n",
       "        text-align: right;\n",
       "    }\n",
       "</style>\n",
       "<table border=\"1\" class=\"dataframe\">\n",
       "  <thead>\n",
       "    <tr style=\"text-align: right;\">\n",
       "      <th></th>\n",
       "      <th>AA</th>\n",
       "      <th>PA</th>\n",
       "      <th>BA</th>\n",
       "    </tr>\n",
       "  </thead>\n",
       "  <tbody>\n",
       "    <tr>\n",
       "      <th>Bifidobacterium</th>\n",
       "      <td>0.000012</td>\n",
       "      <td>5.181703e-02</td>\n",
       "      <td>5.744230e-06</td>\n",
       "    </tr>\n",
       "    <tr>\n",
       "      <th>Faecalibacterium</th>\n",
       "      <td>0.000104</td>\n",
       "      <td>1.445698e-04</td>\n",
       "      <td>7.672677e-06</td>\n",
       "    </tr>\n",
       "    <tr>\n",
       "      <th>Lachnospiraceae</th>\n",
       "      <td>0.010138</td>\n",
       "      <td>1.353216e-02</td>\n",
       "      <td>1.382132e-03</td>\n",
       "    </tr>\n",
       "    <tr>\n",
       "      <th>Lactococcus</th>\n",
       "      <td>0.011347</td>\n",
       "      <td>2.324354e-04</td>\n",
       "      <td>4.904801e-04</td>\n",
       "    </tr>\n",
       "    <tr>\n",
       "      <th>Leuconostoc</th>\n",
       "      <td>0.000011</td>\n",
       "      <td>5.784793e-07</td>\n",
       "      <td>1.639627e-09</td>\n",
       "    </tr>\n",
       "    <tr>\n",
       "      <th>Weissella</th>\n",
       "      <td>0.000001</td>\n",
       "      <td>2.621196e-07</td>\n",
       "      <td>2.990934e-09</td>\n",
       "    </tr>\n",
       "  </tbody>\n",
       "</table>\n",
       "</div>"
      ],
      "text/plain": [
       "                        AA            PA            BA\n",
       "Bifidobacterium   0.000012  5.181703e-02  5.744230e-06\n",
       "Faecalibacterium  0.000104  1.445698e-04  7.672677e-06\n",
       "Lachnospiraceae   0.010138  1.353216e-02  1.382132e-03\n",
       "Lactococcus       0.011347  2.324354e-04  4.904801e-04\n",
       "Leuconostoc       0.000011  5.784793e-07  1.639627e-09\n",
       "Weissella         0.000001  2.621196e-07  2.990934e-09"
      ]
     },
     "execution_count": 7,
     "metadata": {},
     "output_type": "execute_result"
    }
   ],
   "source": [
    "pval_matrix"
   ]
  },
  {
   "cell_type": "code",
   "execution_count": 8,
   "id": "13a88bc0",
   "metadata": {},
   "outputs": [
    {
     "name": "stdout",
     "output_type": "stream",
     "text": [
      "                        AA        PA            BA\n",
      "Bifidobacterium   0.000024  0.051817  1.148846e-05\n",
      "Faecalibacterium  0.000156  0.000289  1.150902e-05\n",
      "Lachnospiraceae   0.011347  0.016239  1.382132e-03\n",
      "Lactococcus       0.011347  0.000349  5.885762e-04\n",
      "Leuconostoc       0.000024  0.000002  8.972802e-09\n",
      "Weissella         0.000009  0.000002  8.972802e-09\n"
     ]
    }
   ],
   "source": [
    "df = pval_matrix.copy()\n",
    "for col in ['AA', 'PA', 'BA']:\n",
    "    pvals = df[col].values\n",
    "    _, qvals, _, _ = multipletests(pvals, method='fdr_bh')\n",
    "    df[col] = qvals\n",
    "\n",
    "print(df)"
   ]
  },
  {
   "cell_type": "code",
   "execution_count": 9,
   "id": "a3b13bb1",
   "metadata": {},
   "outputs": [],
   "source": [
    "significant_mask = pval_matrix < 0.05\n",
    "significant_corrs = corr_matrix.where(significant_mask).dropna(how='all').dropna(axis=1, how='all')"
   ]
  },
  {
   "cell_type": "code",
   "execution_count": 10,
   "id": "cf76f040",
   "metadata": {},
   "outputs": [
    {
     "data": {
      "image/png": "[encoded data removed]",
      "text/plain": [
       "<Figure size 290x170 with 2 Axes>"
      ]
     },
     "metadata": {},
     "output_type": "display_data"
    }
   ],
   "source": [
    "plt.figure(figsize=(2.9, 1.7))\n",
    "\n",
    "# Draw the heatmap for significant correlations\n",
    "sns.heatmap(significant_corrs, annot=True, cmap='vlag', center=0, fmt=\".2f\",\n",
    "             linewidths=0.5, annot_kws = {'size' : 8}, vmax=0.8, vmin=-0.8)\n",
    "\n",
    "# plt.title(\"Significant Spearman Correlation Heatmap (FDR < 0.05)\")\n",
    "plt.xticks(rotation=0, ha='center', fontsize=9)\n",
    "plt.yticks(rotation=0, fontsize=9, fontstyle='italic')\n",
    "plt.tight_layout()\n",
    "plt.savefig('spearman_SCFA.png', dpi=600)\n",
    "plt.show()"
   ]
  },
  {
   "cell_type": "code",
   "execution_count": null,
   "id": "f5f260a9",
   "metadata": {},
   "outputs": [],
   "source": []
  },
  {
   "cell_type": "code",
   "execution_count": null,
   "id": "fb506665",
   "metadata": {},
   "outputs": [],
   "source": [
    "# The SCFA intensities were normalized by setting the mean value of the control group to 1, allowing for relative comparison across groups.\n",
    "df = pd.read_excel('./data/250618_SCFA.xlsx', sheet_name='Merge_rel_F2')\n",
    "# df_key.head()"
   ]
  },
  {
   "cell_type": "code",
   "execution_count": null,
   "id": "0438ccf6",
   "metadata": {},
   "outputs": [
    {
     "data": {
      "image/png": "[encoded data removed]",
      "text/plain": [
       "<Figure size 300x210 with 1 Axes>"
      ]
     },
     "metadata": {},
     "output_type": "display_data"
    }
   ],
   "source": [
    "g_colors = ['white','gray',]\n",
    "group_order = [\"Control\", \"Artichoke\"]\n",
    "marker_dict = {\n",
    "    \"Control\": \"o\",\n",
    "    \"Artichoke\": \"s\",\n",
    "}\n",
    "\n",
    "plt.figure(figsize=(3, 2.1))\n",
    "for group, color in zip(group_order, g_colors):\n",
    "    subset = df[df[\"Label\"] == group]\n",
    "    sns.scatterplot(\n",
    "        data=subset,\n",
    "        x=\"AA\",\n",
    "        y=\"Bifidobacterium\",\n",
    "        label=group,\n",
    "        color=color,\n",
    "        marker=marker_dict[group],\n",
    "        s=20,\n",
    "        edgecolor=\"black\"\n",
    "    )\n",
    "\n",
    "sns.regplot(\n",
    "data=df,\n",
    "x=\"AA\",\n",
    "y=\"Bifidobacterium\",\n",
    "scatter=False,\n",
    "color=\"black\",\n",
    "line_kws={\"linewidth\": 0.5, \"label\": \"Overall trend\", \"linestyle\": \"--\"}\n",
    ")\n",
    "\n",
    "# plt.title(\"Bifidobacterium vs Acetic acid by Group\")\n",
    "plt.xlabel(\"Relative peak intensity (Acetate)\", fontsize=9)\n",
    "plt.ylabel(\"Bifidobacterium\\nRelative abundance\",  fontsize=9)\n",
    "plt.xticks(fontsize=9)\n",
    "plt.yticks(fontsize=9)\n",
    "plt.ylim([-9, 42])\n",
    "\n",
    "plt.legend(title=\"Group\", fontsize=9).remove()\n",
    "plt.grid(True, linestyle=\"--\", linewidth=0.5, alpha=0.7)  # grid 추가\n",
    "\n",
    "plt.tight_layout()\n",
    "plt.savefig('corrleation_B_A.png', dpi=600)\n",
    "\n",
    "plt.show()\n"
   ]
  },
  {
   "cell_type": "code",
   "execution_count": null,
   "id": "1ade875e",
   "metadata": {},
   "outputs": [
    {
     "data": {
      "image/png": "[encoded data removed]",
      "text/plain": [
       "<Figure size 300x210 with 1 Axes>"
      ]
     },
     "metadata": {},
     "output_type": "display_data"
    }
   ],
   "source": [
    "g_colors = ['white','gray',]\n",
    "group_order = [\"Control\", \"Artichoke\"]\n",
    "marker_dict = {\n",
    "    \"Control\": \"o\",\n",
    "    \"Artichoke\": \"s\",\n",
    "}\n",
    "\n",
    "plt.figure(figsize=(3, 2.1))\n",
    "for group, color in zip(group_order, g_colors):\n",
    "    subset = df[df[\"Label\"] == group]\n",
    "    sns.scatterplot(\n",
    "        data=subset,\n",
    "        x=\"BA\",\n",
    "        y=\"Faecalibacterium\",\n",
    "        label=group,\n",
    "        color=color,\n",
    "        marker=marker_dict[group],\n",
    "        s=20,\n",
    "        edgecolor=\"black\"\n",
    "    )\n",
    "\n",
    "sns.regplot(\n",
    "data=df,\n",
    "x=\"BA\",\n",
    "y=\"Faecalibacterium\",\n",
    "scatter=False,\n",
    "color=\"black\",\n",
    "line_kws={\"linewidth\": 0.5, \"label\": \"Overall trend\", \"linestyle\": \"--\"}\n",
    ")\n",
    "\n",
    "# plt.title(\"Bifidobacterium vs Acetic acid by Group\")\n",
    "plt.xlabel(\"Relative peak intensity (Butyrate)\", fontsize=9)\n",
    "plt.ylabel(\"Faecalibacterium\\nRelative abundance\",  fontsize=9)\n",
    "plt.xticks(fontsize=9)\n",
    "plt.yticks(fontsize=9)\n",
    "plt.ylim([-9, 22])\n",
    "plt.legend(title=\"Group\", fontsize=9).remove()\n",
    "plt.grid(True, linestyle=\"--\", linewidth=0.5, alpha=0.7)  # grid 추가\n",
    "\n",
    "\n",
    "plt.tight_layout()\n",
    "plt.savefig('corrleation_F_B.png', dpi=600)\n",
    "\n",
    "plt.show()\n"
   ]
  },
  {
   "cell_type": "code",
   "execution_count": null,
   "id": "e410aa52",
   "metadata": {},
   "outputs": [],
   "source": []
  },
  {
   "cell_type": "code",
   "execution_count": null,
   "id": "d35ebfbc",
   "metadata": {},
   "outputs": [],
   "source": []
  }
 ],
 "metadata": {
  "kernelspec": {
   "display_name": "JINWOO",
   "language": "python",
   "name": "python3"
  },
  "language_info": {
   "codemirror_mode": {
    "name": "ipython",
    "version": 3
   },
   "file_extension": ".py",
   "mimetype": "text/x-python",
   "name": "python",
   "nbconvert_exporter": "python",
   "pygments_lexer": "ipython3",
   "version": "3.12.3"
  }
 },
 "nbformat": 4,
 "nbformat_minor": 5
}
