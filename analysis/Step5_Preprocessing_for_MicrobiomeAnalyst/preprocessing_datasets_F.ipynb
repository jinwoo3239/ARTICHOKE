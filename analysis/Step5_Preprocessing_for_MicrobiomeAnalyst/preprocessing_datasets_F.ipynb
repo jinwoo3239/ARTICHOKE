{
 "cells": [
  {
   "cell_type": "markdown",
   "metadata": {},
   "source": [
    "### Data Subsetting Based on Enterotype\n",
    "\n",
    "Based on the enterotype classification, the samples are divided into two groups: **B-type** and **P-type**.\n",
    "\n",
    "From the `rarefied_table.tsv` file, we will subset the data accordingly to create the following two files:\n",
    "\n",
    "- `Artichoke_B_type.tsv`: Contains only the samples classified as B-type.  \n",
    "- `Artichoke_P_type.tsv`: Contains only the samples classified as P-type.\n",
    "\n",
    "These files will then be converted into a format compatible with  \n",
    "[MicrobiomeAnalyst](https://www.microbiomeanalyst.ca/) for further analysis.\n",
    "\n",
    "\n",
    "This Jupyter notebook processes the QIIME-derived TSV file and the corresponding metadata to generate a table formatted for analysis in MicrobiomeAnalyst."
   ]
  },
  {
   "cell_type": "code",
   "execution_count": null,
   "metadata": {},
   "outputs": [],
   "source": [
    "from libs.utils_import import preprocessing_taxa\n",
    "from libs.utils_import import sort_asv_table"
   ]
  },
  {
   "cell_type": "code",
   "execution_count": 3,
   "metadata": {},
   "outputs": [
    {
     "name": "stdout",
     "output_type": "stream",
     "text": [
      "file_save...\n"
     ]
    }
   ],
   "source": [
    "# Total-type\n",
    "df_asv, df_meta = sort_asv_table(\n",
    "        path_asv='./Data_24hr/rarefied_table.tsv',\n",
    "        asv_sep='\\t',\n",
    "        path_meta='./Data_24hr/Merge_metadata_250602_total.csv',\n",
    "        meta_sep=',',\n",
    "        asv_index='#NAME',\n",
    "        meta_index='sampleid',\n",
    "        sort_feature='analysis',\n",
    "        sort_value='O',\n",
    "        is_save=True,\n",
    "        save_file_name='Artichoke_Total'\n",
    "    )"
   ]
  },
  {
   "cell_type": "code",
   "execution_count": 4,
   "metadata": {},
   "outputs": [
    {
     "name": "stdout",
     "output_type": "stream",
     "text": [
      "file_save...\n"
     ]
    }
   ],
   "source": [
    "# B-type\n",
    "df_asv, df_meta = sort_asv_table(\n",
    "        path_asv='./Data_24hr/rarefied_table.tsv',\n",
    "        asv_sep='\\t',\n",
    "        path_meta='./Data_24hr/Merge_metadata_250602_B_type.csv',\n",
    "        meta_sep=',',\n",
    "        asv_index='#NAME',\n",
    "        meta_index='sampleid',\n",
    "        sort_feature='analysis',\n",
    "        sort_value='O',\n",
    "        is_save=True,\n",
    "        save_file_name='Artichoke_B_type'\n",
    "    )"
   ]
  },
  {
   "cell_type": "code",
   "execution_count": 6,
   "metadata": {},
   "outputs": [
    {
     "name": "stdout",
     "output_type": "stream",
     "text": [
      "file_save...\n"
     ]
    }
   ],
   "source": [
    "# P-type\n",
    "df_asv, df_meta = sort_asv_table(\n",
    "        path_asv='./Data_24hr/rarefied_table.tsv',\n",
    "        asv_sep='\\t',\n",
    "        path_meta='./Data_24hr/Merge_metadata_250602_P_type.csv',\n",
    "        meta_sep=',',\n",
    "        asv_index='#NAME',\n",
    "        meta_index='sampleid',\n",
    "        sort_feature='analysis',\n",
    "        sort_value='O',\n",
    "        is_save=True,\n",
    "        save_file_name='Artichoke_P_type'\n",
    "    )"
   ]
  },
  {
   "cell_type": "code",
   "execution_count": 7,
   "metadata": {},
   "outputs": [
    {
     "name": "stdout",
     "output_type": "stream",
     "text": [
      "file_save...\n"
     ]
    }
   ],
   "source": [
    "# total rarefied_file...\n",
    "df_taxa = preprocessing_taxa(\n",
    "        path='./Data_24hr/taxonomy.tsv',\n",
    "        sep='\\t',\n",
    "        feature_id='Feature ID',\n",
    "        taxa_colum='Taxon',\n",
    "        is_save=True,\n",
    "        file_name='taxa_silva'\n",
    "    )"
   ]
  },
  {
   "cell_type": "code",
   "execution_count": null,
   "metadata": {},
   "outputs": [],
   "source": []
  }
 ],
 "metadata": {
  "kernelspec": {
   "display_name": "JINWOO",
   "language": "python",
   "name": "python3"
  },
  "language_info": {
   "codemirror_mode": {
    "name": "ipython",
    "version": 3
   },
   "file_extension": ".py",
   "mimetype": "text/x-python",
   "name": "python",
   "nbconvert_exporter": "python",
   "pygments_lexer": "ipython3",
   "version": "3.12.3"
  }
 },
 "nbformat": 4,
 "nbformat_minor": 2
}
