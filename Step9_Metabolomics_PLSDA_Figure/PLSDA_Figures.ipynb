{
 "cells": [
  {
   "cell_type": "code",
   "execution_count": 2,
   "metadata": {},
   "outputs": [],
   "source": [
    "import numpy as np\n",
    "import pandas as pd\n",
    "import seaborn as sns\n",
    "\n",
    "import matplotlib.pyplot as plt\n",
    "from matplotlib.patches import Ellipse\n",
    "\n",
    "plt.rcParams['font.family'] = 'Arial'\n",
    "\n",
    "import warnings\n",
    "warnings.filterwarnings(\"ignore\")"
   ]
  },
  {
   "cell_type": "code",
   "execution_count": 3,
   "metadata": {},
   "outputs": [],
   "source": [
    "# \"PLSDA diversity analysis was performed using Metaboanalyst.\"\n",
    "# https://www.metaboanalyst.ca//\n",
    "\n",
    "file_path = './Data/plsda_score.csv'\n",
    "\n",
    "df_plsda = pd.read_csv(file_path).set_index('sampleid')"
   ]
  },
  {
   "cell_type": "code",
   "execution_count": null,
   "metadata": {},
   "outputs": [],
   "source": [
    "# b-diveristy\n",
    "\n",
    "def plot_confidence_ellipse(data, confidence_level=0.90):\n",
    "    mean_x, mean_y = np.mean(data, axis=0)\n",
    "    cov_matrix = np.cov(data, rowvar=False)\n",
    "    \n",
    "    eigvals, eigvecs = np.linalg.eigh(cov_matrix)\n",
    "    \n",
    "    if confidence_level == 0.95 :\n",
    "        chi_square_val = 5.991\n",
    "    elif confidence_level == 0.90 :\n",
    "        chi_square_val = 4.605\n",
    "    elif confidence_level == 0.8 :\n",
    "        chi_square_val = 3.219\n",
    "    else:\n",
    "        raise ValueError('CI')\n",
    "\n",
    "    scale = np.sqrt(chi_square_val)\n",
    "    \n",
    "    width, height = 2 * scale * np.sqrt(eigvals)\n",
    "    \n",
    "    angle = np.degrees(np.arctan2(*eigvecs[:, 0][::-1]))\n",
    "\n",
    "    return (mean_x, mean_y), width, height, angle\n",
    "\n",
    "def cal_ellipse(data, group_name, component1='Component1', componet2='Component2', cl=0.9):\n",
    "    data = data[data.group == group_name]\n",
    "    data = data[[component1, componet2]].values\n",
    "\n",
    "    (mean_x, mean_y), width, height, angle = plot_confidence_ellipse(data, confidence_level=cl)\n",
    "\n",
    "    return (mean_x, mean_y), width, height, angle\n"
   ]
  },
  {
   "cell_type": "code",
   "execution_count": null,
   "metadata": {},
   "outputs": [
    {
     "data": {
      "image/png": "[encoded data removed]",
      "text/plain": [
       "<Figure size 400x250 with 1 Axes>"
      ]
     },
     "metadata": {},
     "output_type": "display_data"
    }
   ],
   "source": [
    "palette = ['gray', 'white']\n",
    "orders = ['Control', 'Artichoke']\n",
    "\n",
    "\n",
    "marker_size = 35\n",
    "alpha = 0.8\n",
    "is_ellipse = True\n",
    "\n",
    "fig, ax = plt.subplots(figsize=(4, 2.5))\n",
    "\n",
    "data = df_plsda\n",
    "\n",
    "\n",
    "if is_ellipse:\n",
    "    alpha=0.1\n",
    "    (mean_x, mean_y), width, height, angle = cal_ellipse(data, group_name=orders[0], cl=0.95, component1='PC1', componet2='PC2')\n",
    "    ellipse = Ellipse((mean_x, mean_y), width, height, angle=angle, edgecolor='white', facecolor='white', alpha=alpha)\n",
    "    ax.add_patch(ellipse)\n",
    "\n",
    "\n",
    "    (mean_x, mean_y), width, height, angle = cal_ellipse(data, group_name=orders[1], cl=0.95, component1='PC1', componet2='PC2')\n",
    "    ellipse = Ellipse((mean_x, mean_y), width, height, angle=angle, edgecolor='gray', facecolor='gray', alpha=alpha)\n",
    "    ax.add_patch(ellipse)\n",
    "\n",
    "\n",
    "    alpha=1\n",
    "\n",
    "    (mean_x, mean_y), width, height, angle = cal_ellipse(data, group_name=orders[0], cl=0.95, component1='PC1', componet2='PC2')\n",
    "    ellipse = Ellipse((mean_x, mean_y), width, height, angle=angle, edgecolor='black', facecolor='none', alpha=alpha, linestyle='--', linewidth=0.4)\n",
    "    ax.add_patch(ellipse)\n",
    "    \n",
    "\n",
    "    (mean_x, mean_y), width, height, angle = cal_ellipse(data, group_name=orders[1], cl=0.95, component1='PC1', componet2='PC2')\n",
    "    ellipse = Ellipse((mean_x, mean_y), width, height, angle=angle, edgecolor='black', facecolor='none', alpha=alpha, linestyle='--', linewidth=0.4)\n",
    "    ax.add_patch(ellipse)\n",
    " \n",
    "\n",
    "\n",
    "unique_groups = data['group'].unique()\n",
    "markers = ['o', 's', ]  \n",
    "\n",
    "marker_dict = {group: marker for group, marker in zip(unique_groups, markers)}\n",
    "\n",
    "sns.scatterplot(\n",
    "    data=data,\n",
    "    x='PC1',\n",
    "    y='PC2',\n",
    "    hue='group',\n",
    "    style='group',\n",
    "    markers=marker_dict,\n",
    "    s=marker_size,\n",
    "    edgecolor='k',\n",
    "    palette=palette\n",
    ")\n",
    "\n",
    "if True:\n",
    "    plt.xlabel(f'Component1 (10.8%)', fontsize=9)\n",
    "    plt.ylabel(f'Component2 (8.7%)', fontsize=9)\n",
    "    plt.xticks(fontsize=9,)\n",
    "    plt.yticks(fontsize=9)\n",
    "    plt.legend( bbox_to_anchor=(1.01, 1.01), fontsize=9)\n",
    "    # plt.gca().get_legend().remove()\n",
    "\n",
    "\n",
    "    #plt.yticks([-0.3, -0.15, 0, 0.15, 0.3])\n",
    "    plt.xlim(-16, 16)\n",
    "    plt.ylim(-18, 18)\n",
    "\n",
    "\n",
    "    plt.tight_layout()\n",
    "    plt.grid(True, color='gray', linestyle='--', linewidth=0.5, alpha=0.3)\n",
    "    plt.savefig('./Figures/PLS-DA.png', dpi=600)"
   ]
  },
  {
   "cell_type": "code",
   "execution_count": null,
   "metadata": {},
   "outputs": [],
   "source": []
  }
 ],
 "metadata": {
  "kernelspec": {
   "display_name": "jinwoo",
   "language": "python",
   "name": "python3"
  },
  "language_info": {
   "codemirror_mode": {
    "name": "ipython",
    "version": 3
   },
   "file_extension": ".py",
   "mimetype": "text/x-python",
   "name": "python",
   "nbconvert_exporter": "python",
   "pygments_lexer": "ipython3",
   "version": "3.12.3"
  }
 },
 "nbformat": 4,
 "nbformat_minor": 2
}
